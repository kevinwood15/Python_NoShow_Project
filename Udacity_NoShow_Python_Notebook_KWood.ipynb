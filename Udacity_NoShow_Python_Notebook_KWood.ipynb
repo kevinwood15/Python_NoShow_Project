{
 "cells": [
  {
   "cell_type": "markdown",
   "metadata": {},
   "source": [
    "# Introduction & Questions"
   ]
  },
  {
   "cell_type": "markdown",
   "metadata": {},
   "source": [
    "In this project, I demonstrate the 'Data Analysis Process' on a public dataset from Kaggle (https://www.kaggle.com/joniarroba/noshowappointments).\n",
    "\n",
    "The dataset contains information about medical appointments in Brazil.\n",
    "\n",
    "The project seeks to uncover relationships between the attributes of the patients and the likelihood of them showing up for their scheduled appointment. This is a descriptive analysis.\n",
    "\n",
    "What factors are related to not showing up for appointments? I investigate the following:\n",
    "\n",
    "1) Is there a relationship between gender and no shows?\n",
    "2) Is there a relationship between being on welfare (participation in a public assistance program) and no shows?\n",
    "3) Is there a relationship between gender, welfare program particpation, and no shows?\n",
    "4) is there a relationship between gender, age, and no shows?\n",
    "\n",
    "In this analysis, the dependent variable is 'no show' and the independent variables are gender (male or female) and welfare program participation (scholarship status).\n"
   ]
  },
  {
   "cell_type": "markdown",
   "metadata": {},
   "source": [
    "# Data Wrangling"
   ]
  },
  {
   "cell_type": "code",
   "execution_count": 1,
   "metadata": {},
   "outputs": [],
   "source": [
    "#import packages and assign aliases\n",
    "import pandas as pd\n",
    "import numpy as np\n",
    "import matplotlib.pyplot as plt\n",
    "import seaborn as sns\n",
    "%matplotlib inline"
   ]
  },
  {
   "cell_type": "code",
   "execution_count": 2,
   "metadata": {
    "scrolled": true
   },
   "outputs": [
    {
     "data": {
      "text/html": [
       "<div>\n",
       "<style scoped>\n",
       "    .dataframe tbody tr th:only-of-type {\n",
       "        vertical-align: middle;\n",
       "    }\n",
       "\n",
       "    .dataframe tbody tr th {\n",
       "        vertical-align: top;\n",
       "    }\n",
       "\n",
       "    .dataframe thead th {\n",
       "        text-align: right;\n",
       "    }\n",
       "</style>\n",
       "<table border=\"1\" class=\"dataframe\">\n",
       "  <thead>\n",
       "    <tr style=\"text-align: right;\">\n",
       "      <th></th>\n",
       "      <th>PatientId</th>\n",
       "      <th>AppointmentID</th>\n",
       "      <th>Gender</th>\n",
       "      <th>ScheduledDay</th>\n",
       "      <th>AppointmentDay</th>\n",
       "      <th>Age</th>\n",
       "      <th>Neighbourhood</th>\n",
       "      <th>Scholarship</th>\n",
       "      <th>Hipertension</th>\n",
       "      <th>Diabetes</th>\n",
       "      <th>Alcoholism</th>\n",
       "      <th>Handcap</th>\n",
       "      <th>SMS_received</th>\n",
       "      <th>No-show</th>\n",
       "    </tr>\n",
       "  </thead>\n",
       "  <tbody>\n",
       "    <tr>\n",
       "      <th>0</th>\n",
       "      <td>2.987250e+13</td>\n",
       "      <td>5642903</td>\n",
       "      <td>F</td>\n",
       "      <td>2016-04-29T18:38:08Z</td>\n",
       "      <td>2016-04-29T00:00:00Z</td>\n",
       "      <td>62</td>\n",
       "      <td>JARDIM DA PENHA</td>\n",
       "      <td>0</td>\n",
       "      <td>1</td>\n",
       "      <td>0</td>\n",
       "      <td>0</td>\n",
       "      <td>0</td>\n",
       "      <td>0</td>\n",
       "      <td>No</td>\n",
       "    </tr>\n",
       "    <tr>\n",
       "      <th>1</th>\n",
       "      <td>5.589978e+14</td>\n",
       "      <td>5642503</td>\n",
       "      <td>M</td>\n",
       "      <td>2016-04-29T16:08:27Z</td>\n",
       "      <td>2016-04-29T00:00:00Z</td>\n",
       "      <td>56</td>\n",
       "      <td>JARDIM DA PENHA</td>\n",
       "      <td>0</td>\n",
       "      <td>0</td>\n",
       "      <td>0</td>\n",
       "      <td>0</td>\n",
       "      <td>0</td>\n",
       "      <td>0</td>\n",
       "      <td>No</td>\n",
       "    </tr>\n",
       "    <tr>\n",
       "      <th>2</th>\n",
       "      <td>4.262962e+12</td>\n",
       "      <td>5642549</td>\n",
       "      <td>F</td>\n",
       "      <td>2016-04-29T16:19:04Z</td>\n",
       "      <td>2016-04-29T00:00:00Z</td>\n",
       "      <td>62</td>\n",
       "      <td>MATA DA PRAIA</td>\n",
       "      <td>0</td>\n",
       "      <td>0</td>\n",
       "      <td>0</td>\n",
       "      <td>0</td>\n",
       "      <td>0</td>\n",
       "      <td>0</td>\n",
       "      <td>No</td>\n",
       "    </tr>\n",
       "    <tr>\n",
       "      <th>3</th>\n",
       "      <td>8.679512e+11</td>\n",
       "      <td>5642828</td>\n",
       "      <td>F</td>\n",
       "      <td>2016-04-29T17:29:31Z</td>\n",
       "      <td>2016-04-29T00:00:00Z</td>\n",
       "      <td>8</td>\n",
       "      <td>PONTAL DE CAMBURI</td>\n",
       "      <td>0</td>\n",
       "      <td>0</td>\n",
       "      <td>0</td>\n",
       "      <td>0</td>\n",
       "      <td>0</td>\n",
       "      <td>0</td>\n",
       "      <td>No</td>\n",
       "    </tr>\n",
       "    <tr>\n",
       "      <th>4</th>\n",
       "      <td>8.841186e+12</td>\n",
       "      <td>5642494</td>\n",
       "      <td>F</td>\n",
       "      <td>2016-04-29T16:07:23Z</td>\n",
       "      <td>2016-04-29T00:00:00Z</td>\n",
       "      <td>56</td>\n",
       "      <td>JARDIM DA PENHA</td>\n",
       "      <td>0</td>\n",
       "      <td>1</td>\n",
       "      <td>1</td>\n",
       "      <td>0</td>\n",
       "      <td>0</td>\n",
       "      <td>0</td>\n",
       "      <td>No</td>\n",
       "    </tr>\n",
       "  </tbody>\n",
       "</table>\n",
       "</div>"
      ],
      "text/plain": [
       "      PatientId  AppointmentID Gender          ScheduledDay  \\\n",
       "0  2.987250e+13        5642903      F  2016-04-29T18:38:08Z   \n",
       "1  5.589978e+14        5642503      M  2016-04-29T16:08:27Z   \n",
       "2  4.262962e+12        5642549      F  2016-04-29T16:19:04Z   \n",
       "3  8.679512e+11        5642828      F  2016-04-29T17:29:31Z   \n",
       "4  8.841186e+12        5642494      F  2016-04-29T16:07:23Z   \n",
       "\n",
       "         AppointmentDay  Age      Neighbourhood  Scholarship  Hipertension  \\\n",
       "0  2016-04-29T00:00:00Z   62    JARDIM DA PENHA            0             1   \n",
       "1  2016-04-29T00:00:00Z   56    JARDIM DA PENHA            0             0   \n",
       "2  2016-04-29T00:00:00Z   62      MATA DA PRAIA            0             0   \n",
       "3  2016-04-29T00:00:00Z    8  PONTAL DE CAMBURI            0             0   \n",
       "4  2016-04-29T00:00:00Z   56    JARDIM DA PENHA            0             1   \n",
       "\n",
       "   Diabetes  Alcoholism  Handcap  SMS_received No-show  \n",
       "0         0           0        0             0      No  \n",
       "1         0           0        0             0      No  \n",
       "2         0           0        0             0      No  \n",
       "3         0           0        0             0      No  \n",
       "4         1           0        0             0      No  "
      ]
     },
     "execution_count": 2,
     "metadata": {},
     "output_type": "execute_result"
    }
   ],
   "source": [
    "# read data into memory\n",
    "# note that you could download data from https://www.kaggle.com/joniarroba/noshowappointments or link with API\n",
    "# set up correct directory\n",
    "df=pd.read_csv(\"/Users/user/Downloads/noshowappointments-kagglev2-may-2016.csv\")\n",
    "\n",
    "# I view the raw data with the 'head()' command.\n",
    "df.head()\n"
   ]
  },
  {
   "cell_type": "code",
   "execution_count": 3,
   "metadata": {},
   "outputs": [
    {
     "data": {
      "text/plain": [
       "(110527, 14)"
      ]
     },
     "execution_count": 3,
     "metadata": {},
     "output_type": "execute_result"
    }
   ],
   "source": [
    "df.shape"
   ]
  },
  {
   "cell_type": "markdown",
   "metadata": {},
   "source": [
    "The dataset has 110,527 observation and 14 variables."
   ]
  },
  {
   "cell_type": "code",
   "execution_count": 4,
   "metadata": {
    "scrolled": true
   },
   "outputs": [
    {
     "name": "stdout",
     "output_type": "stream",
     "text": [
      "<class 'pandas.core.frame.DataFrame'>\n",
      "RangeIndex: 110527 entries, 0 to 110526\n",
      "Data columns (total 14 columns):\n",
      " #   Column          Non-Null Count   Dtype  \n",
      "---  ------          --------------   -----  \n",
      " 0   PatientId       110527 non-null  float64\n",
      " 1   AppointmentID   110527 non-null  int64  \n",
      " 2   Gender          110527 non-null  object \n",
      " 3   ScheduledDay    110527 non-null  object \n",
      " 4   AppointmentDay  110527 non-null  object \n",
      " 5   Age             110527 non-null  int64  \n",
      " 6   Neighbourhood   110527 non-null  object \n",
      " 7   Scholarship     110527 non-null  int64  \n",
      " 8   Hipertension    110527 non-null  int64  \n",
      " 9   Diabetes        110527 non-null  int64  \n",
      " 10  Alcoholism      110527 non-null  int64  \n",
      " 11  Handcap         110527 non-null  int64  \n",
      " 12  SMS_received    110527 non-null  int64  \n",
      " 13  No-show         110527 non-null  object \n",
      "dtypes: float64(1), int64(8), object(5)\n",
      "memory usage: 11.8+ MB\n"
     ]
    }
   ],
   "source": [
    "df.info()"
   ]
  },
  {
   "cell_type": "markdown",
   "metadata": {},
   "source": [
    "None of the observations have any missing values for the 14 variables. This is evidenced by the fact the the number of non-null observations for each variable (column) is equal to the total number of observations"
   ]
  },
  {
   "cell_type": "code",
   "execution_count": 5,
   "metadata": {
    "scrolled": true
   },
   "outputs": [],
   "source": [
    "# Change the variables for the 'Scheduled Day' and 'Appointment Day' to datetime.\n",
    "pd.to_datetime(df['ScheduledDay']);\n",
    "pd.to_datetime(df['AppointmentDay']);"
   ]
  },
  {
   "cell_type": "code",
   "execution_count": 6,
   "metadata": {},
   "outputs": [
    {
     "name": "stdout",
     "output_type": "stream",
     "text": [
      "<class 'pandas.core.frame.DataFrame'>\n",
      "RangeIndex: 110527 entries, 0 to 110526\n",
      "Data columns (total 14 columns):\n",
      " #   Column          Non-Null Count   Dtype  \n",
      "---  ------          --------------   -----  \n",
      " 0   patientid       110527 non-null  float64\n",
      " 1   appointmentid   110527 non-null  int64  \n",
      " 2   gender          110527 non-null  object \n",
      " 3   scheduledday    110527 non-null  object \n",
      " 4   appointmentday  110527 non-null  object \n",
      " 5   age             110527 non-null  int64  \n",
      " 6   neighbourhood   110527 non-null  object \n",
      " 7   scholarship     110527 non-null  int64  \n",
      " 8   hypertension    110527 non-null  int64  \n",
      " 9   diabetes        110527 non-null  int64  \n",
      " 10  alcoholism      110527 non-null  int64  \n",
      " 11  handicap        110527 non-null  int64  \n",
      " 12  sms_received    110527 non-null  int64  \n",
      " 13  no_show         110527 non-null  object \n",
      "dtypes: float64(1), int64(8), object(5)\n",
      "memory usage: 11.8+ MB\n"
     ]
    }
   ],
   "source": [
    "# Rename mis-spelled columns \n",
    "# Rename the 'No-show' column/variable with an underscore, 'No_show', so that I can use in inline with certain commands. \n",
    "df=df.rename(columns={'Hipertension': 'Hypertension', 'Handcap' : 'Handicap', 'No-show': \"No_show\"})\n",
    "# Lower case all columns.\n",
    "df.columns = map(str.lower, df.columns)\n",
    "df.info()"
   ]
  },
  {
   "cell_type": "code",
   "execution_count": 7,
   "metadata": {
    "scrolled": true
   },
   "outputs": [],
   "source": [
    "# Change no show and gender to binary variables\n",
    "df['no_show'].replace(('Yes', 'No'), (1, 0), inplace=True)\n",
    "df['gender'].replace(('M', 'F'), (1, 0), inplace=True)\n",
    "df=df.rename(columns={'gender': \"male\"})"
   ]
  },
  {
   "cell_type": "markdown",
   "metadata": {},
   "source": [
    "Changing no-show to binary allows me to take the mean to find the percent of the respective group that is a 'no show' rather than having to create the proportion of the group (count of group that 'no show' relative to total)"
   ]
  },
  {
   "cell_type": "code",
   "execution_count": 8,
   "metadata": {
    "scrolled": false
   },
   "outputs": [
    {
     "data": {
      "text/plain": [
       "patientid          62299\n",
       "appointmentid     110527\n",
       "male                   2\n",
       "scheduledday      103549\n",
       "appointmentday        27\n",
       "age                  104\n",
       "neighbourhood         81\n",
       "scholarship            2\n",
       "hypertension           2\n",
       "diabetes               2\n",
       "alcoholism             2\n",
       "handicap               5\n",
       "sms_received           2\n",
       "no_show                2\n",
       "dtype: int64"
      ]
     },
     "execution_count": 8,
     "metadata": {},
     "output_type": "execute_result"
    }
   ],
   "source": [
    "# Check for unique\n",
    "df.nunique()"
   ]
  },
  {
   "cell_type": "markdown",
   "metadata": {},
   "source": [
    "There are 62,299 unique patients in the dataset. Therefore, there are some observations represent multiple visits from the same patient."
   ]
  },
  {
   "cell_type": "code",
   "execution_count": 9,
   "metadata": {},
   "outputs": [
    {
     "data": {
      "text/plain": [
       "0"
      ]
     },
     "execution_count": 9,
     "metadata": {},
     "output_type": "execute_result"
    }
   ],
   "source": [
    "# check for duplicates in the data\n",
    "sum(df.duplicated())"
   ]
  },
  {
   "cell_type": "markdown",
   "metadata": {},
   "source": [
    "There are no duplicates in the dataset"
   ]
  },
  {
   "cell_type": "code",
   "execution_count": 10,
   "metadata": {
    "scrolled": true
   },
   "outputs": [
    {
     "data": {
      "image/png": "[encoded data removed]",
      "text/plain": [
       "<Figure size 1080x1080 with 12 Axes>"
      ]
     },
     "metadata": {
      "needs_background": "light"
     },
     "output_type": "display_data"
    }
   ],
   "source": [
    "df.hist(figsize=(15,15));"
   ]
  },
  {
   "cell_type": "markdown",
   "metadata": {},
   "source": [
    "The histograms suggest that:\n",
    "\n",
    "1) most patients are female\n",
    "2) most patients are in good health (with respect to hypertension, alcoholism, diabetes, and general handicaps)\n",
    "3) a minority of patients receive a sms text message\n",
    "    "
   ]
  },
  {
   "cell_type": "markdown",
   "metadata": {},
   "source": [
    "# Exploratory Data Analysis"
   ]
  },
  {
   "cell_type": "code",
   "execution_count": 11,
   "metadata": {},
   "outputs": [
    {
     "data": {
      "text/plain": [
       "0.20193255946510807"
      ]
     },
     "execution_count": 11,
     "metadata": {},
     "output_type": "execute_result"
    }
   ],
   "source": [
    "df.no_show.mean()"
   ]
  },
  {
   "cell_type": "markdown",
   "metadata": {},
   "source": [
    "On average, about 1 in every 5 appointments results in a 'no show'"
   ]
  },
  {
   "cell_type": "code",
   "execution_count": 12,
   "metadata": {},
   "outputs": [],
   "source": [
    "def tab(col_name):\n",
    "    #this take a column, and separates with '|'\n",
    "    tab = df[col_name].str.cat(sep = '|')\n",
    "    \n",
    "    #giving pandas series and storing the values separately\n",
    "    tab = pd.Series(tab.split('|'))\n",
    "    \n",
    "    #The result will be in descending order so that the first element is the most frequently-occurring element.\n",
    "    frequency = tab.value_counts(ascending = False)\n",
    "    \n",
    "    return frequency"
   ]
  },
  {
   "cell_type": "markdown",
   "metadata": {},
   "source": [
    "I create a user written function to divide column values and tabulate them. I use it below to tabulate the appointments by neighbourhood and appointment day."
   ]
  },
  {
   "cell_type": "code",
   "execution_count": 13,
   "metadata": {
    "scrolled": false
   },
   "outputs": [
    {
     "data": {
      "text/plain": [
       "JARDIM CAMBURI       7717\n",
       "MARIA ORTIZ          5805\n",
       "RESISTÊNCIA          4431\n",
       "JARDIM DA PENHA      3877\n",
       "ITARARÉ              3514\n",
       "CENTRO               3334\n",
       "TABUAZEIRO           3132\n",
       "SANTA MARTHA         3131\n",
       "JESUS DE NAZARETH    2853\n",
       "BONFIM               2773\n",
       "dtype: int64"
      ]
     },
     "execution_count": 13,
     "metadata": {},
     "output_type": "execute_result"
    }
   ],
   "source": [
    "hood = tab('neighbourhood')\n",
    "\n",
    "hood.head(10)"
   ]
  },
  {
   "cell_type": "markdown",
   "metadata": {},
   "source": [
    "There are 81 neighbourhoods that appointments in this dataset are made from. We can see that many of the appointments come from the top 10 neighborhoods. Below I examine the bottom 10 neighborhoods."
   ]
  },
  {
   "cell_type": "code",
   "execution_count": 14,
   "metadata": {},
   "outputs": [
    {
     "data": {
      "text/plain": [
       "UNIVERSITÁRIO                  152\n",
       "SEGURANÇA DO LAR               145\n",
       "NAZARETH                       135\n",
       "MORADA DE CAMBURI               96\n",
       "PONTAL DE CAMBURI               69\n",
       "ILHA DO BOI                     35\n",
       "ILHA DO FRADE                   10\n",
       "AEROPORTO                        8\n",
       "ILHAS OCEÂNICAS DE TRINDADE      2\n",
       "PARQUE INDUSTRIAL                1\n",
       "dtype: int64"
      ]
     },
     "execution_count": 14,
     "metadata": {},
     "output_type": "execute_result"
    }
   ],
   "source": [
    "hood.tail(10)"
   ]
  },
  {
   "cell_type": "markdown",
   "metadata": {},
   "source": [
    "Relative to the top 10 neighborhoods, barely any appointments are made for the bottom 10. "
   ]
  },
  {
   "cell_type": "code",
   "execution_count": 15,
   "metadata": {
    "scrolled": false
   },
   "outputs": [
    {
     "data": {
      "text/plain": [
       "2016-06-06T00:00:00Z    4692\n",
       "2016-05-16T00:00:00Z    4613\n",
       "2016-05-09T00:00:00Z    4520\n",
       "2016-05-30T00:00:00Z    4514\n",
       "2016-06-08T00:00:00Z    4479\n",
       "2016-05-11T00:00:00Z    4474\n",
       "2016-06-01T00:00:00Z    4464\n",
       "2016-06-07T00:00:00Z    4416\n",
       "2016-05-12T00:00:00Z    4394\n",
       "2016-05-02T00:00:00Z    4376\n",
       "2016-05-18T00:00:00Z    4373\n",
       "2016-05-17T00:00:00Z    4372\n",
       "2016-06-02T00:00:00Z    4310\n",
       "2016-05-10T00:00:00Z    4308\n",
       "2016-05-31T00:00:00Z    4279\n",
       "2016-05-05T00:00:00Z    4273\n",
       "2016-05-19T00:00:00Z    4270\n",
       "2016-05-03T00:00:00Z    4256\n",
       "2016-05-04T00:00:00Z    4168\n",
       "2016-06-03T00:00:00Z    4090\n",
       "2016-05-24T00:00:00Z    4009\n",
       "2016-05-13T00:00:00Z    3987\n",
       "2016-05-25T00:00:00Z    3909\n",
       "2016-05-06T00:00:00Z    3879\n",
       "2016-05-20T00:00:00Z    3828\n",
       "2016-04-29T00:00:00Z    3235\n",
       "2016-05-14T00:00:00Z      39\n",
       "dtype: int64"
      ]
     },
     "execution_count": 15,
     "metadata": {},
     "output_type": "execute_result"
    }
   ],
   "source": [
    "day=tab('appointmentday')\n",
    "day"
   ]
  },
  {
   "cell_type": "markdown",
   "metadata": {},
   "source": [
    "This dataset has 27 different appointment days. All days have at least 3000 appointments besides 2016-05-14 where only 39 appointments were recorded. This may be an error in the dataset. "
   ]
  },
  {
   "cell_type": "code",
   "execution_count": 16,
   "metadata": {
    "scrolled": true
   },
   "outputs": [
    {
     "name": "stdout",
     "output_type": "stream",
     "text": [
      "19.97 percent of Males do not show up for their appointments while 20.31 percent of females do not show\n"
     ]
    }
   ],
   "source": [
    "# I check if there is a difference between the genders for no shows.\n",
    "# Use query to select each group and get its mean quality\n",
    "male = df.query('male ==1')\n",
    "female = df.query('male ==0')\n",
    "\n",
    "mean_noshow_male = male['no_show'].mean()\n",
    "mean_noshow_female = female['no_show'].mean()\n",
    "\n",
    "count_noshow_male=male['no_show'].count()\n",
    "count_noshow_female=female['no_show'].count()\n",
    "\n",
    "print(str(format(mean_noshow_male*100,\"0.2f\")) \n",
    "      + ' percent of Males do not show up for their appointments while ' \n",
    "      + str(format(mean_noshow_female*100,\"0.2f\")) \n",
    "      + ' percent of females do not show')\n"
   ]
  },
  {
   "cell_type": "code",
   "execution_count": 17,
   "metadata": {},
   "outputs": [
    {
     "data": {
      "text/plain": [
       "0.35002307128574917"
      ]
     },
     "execution_count": 17,
     "metadata": {},
     "output_type": "execute_result"
    }
   ],
   "source": [
    "df.male.mean()"
   ]
  },
  {
   "cell_type": "markdown",
   "metadata": {},
   "source": [
    "There is a very small difference between the percent of males and females missing appointments in the total sample. However, only 35 percent of the all appointments are for male patients so a greater proportion of the absolute amount of no shows are for females."
   ]
  },
  {
   "cell_type": "markdown",
   "metadata": {},
   "source": [
    "### Visual representation of the data"
   ]
  },
  {
   "cell_type": "code",
   "execution_count": 18,
   "metadata": {
    "scrolled": false
   },
   "outputs": [
    {
     "data": {
      "image/png": "[encoded data removed]",
      "text/plain": [
       "<Figure size 432x288 with 1 Axes>"
      ]
     },
     "metadata": {
      "needs_background": "light"
     },
     "output_type": "display_data"
    }
   ],
   "source": [
    "# I create a bar chart with of the likelihood of a No Show by gender\n",
    "locations = [1, 2]\n",
    "heights = [mean_noshow_male, mean_noshow_female]\n",
    "labels = ['Male', 'Female']\n",
    "plt.bar(locations, heights, tick_label=labels)\n",
    "plt.title('Likelihood of No Show Appointments by Gender')\n",
    "plt.xlabel('Gender')\n",
    "plt.ylabel('Likelihood of No Show');"
   ]
  },
  {
   "cell_type": "markdown",
   "metadata": {},
   "source": [
    "The likelihood of missing an appointment appears to be almost the same for the genders."
   ]
  },
  {
   "cell_type": "code",
   "execution_count": 19,
   "metadata": {},
   "outputs": [
    {
     "data": {
      "image/png": "[encoded data removed]",
      "text/plain": [
       "<Figure size 432x288 with 1 Axes>"
      ]
     },
     "metadata": {
      "needs_background": "light"
     },
     "output_type": "display_data"
    }
   ],
   "source": [
    "# I create a bar chart with proper labels\n",
    "locations = [1, 2]\n",
    "heights = [count_noshow_male, count_noshow_female]\n",
    "labels = ['Male', 'Female']\n",
    "plt.bar(locations, heights, tick_label=labels)\n",
    "plt.title('Count of No Show Appointments by Gender')\n",
    "plt.xlabel('Gender')\n",
    "plt.ylabel('Count of No Shows');"
   ]
  },
  {
   "cell_type": "markdown",
   "metadata": {},
   "source": [
    "There are many money females missing appointments than males in an absolute sense. However, as seen in the previous figure, both genders are almost just as likely to miss an appointment."
   ]
  },
  {
   "cell_type": "code",
   "execution_count": 20,
   "metadata": {
    "scrolled": true
   },
   "outputs": [
    {
     "name": "stdout",
     "output_type": "stream",
     "text": [
      "23.74 percent of scholarship recipients do not show up for their appointments while 19.81 percent of non-scholarship patients do not show. Scholarships are awarded to poor families. There may be transportation issues leading to more no shows, or there may be issues with reliability of the patients due to moral hazard (no having to bear the cost themselves).\n"
     ]
    }
   ],
   "source": [
    "# I check if Are Scholarship (welfare) recipients less likely to show up for an appointment?\n",
    "# Query to select each group and get its mean quality\n",
    "scholarship = df.query('scholarship ==1')\n",
    "no_scholarship = df.query('scholarship ==0')\n",
    "\n",
    "mean_noshow_sch = scholarship['no_show'].mean()\n",
    "mean_noshow_nosch = no_scholarship['no_show'].mean()\n",
    "\n",
    "count_noshow_sch = scholarship['no_show'].count()\n",
    "count_noshow_nosch = no_scholarship['no_show'].count()\n",
    "\n",
    "print(str(format(mean_noshow_sch*100,\"0.2f\")) \n",
    "      + ' percent of scholarship recipients do not show up for their appointments while ' \n",
    "      + str(format(mean_noshow_nosch*100,\"0.2f\")) \n",
    "      + ' percent of non-scholarship patients do not show. '\n",
    "     'Scholarships are awarded to poor families. There may be transportation issues ' \n",
    "      + 'leading to more no shows, or there may be issues with reliability of the '\n",
    "      + 'patients due to moral hazard (no having to bear the cost themselves).')\n"
   ]
  },
  {
   "cell_type": "code",
   "execution_count": 21,
   "metadata": {},
   "outputs": [
    {
     "name": "stdout",
     "output_type": "stream",
     "text": [
      "However, only 9.83 percent of the total patient population are on scholarship so they are not driving the majority of no shows.\n"
     ]
    }
   ],
   "source": [
    "print('However, only ' \n",
    "      + str(format(df['scholarship'].mean()*100,\"0.2f\")) \n",
    "      + ' percent of the total patient population are on scholarship' \n",
    "      + ' so they are not driving the majority of no shows.')\n"
   ]
  },
  {
   "cell_type": "code",
   "execution_count": 22,
   "metadata": {
    "scrolled": true
   },
   "outputs": [
    {
     "data": {
      "image/png": "[encoded data removed]",
      "text/plain": [
       "<Figure size 432x288 with 1 Axes>"
      ]
     },
     "metadata": {
      "needs_background": "light"
     },
     "output_type": "display_data"
    }
   ],
   "source": [
    "# I create a bar chart on average likelihood of missed appointment by scholarship status\n",
    "locations = [1, 2]\n",
    "heights = [mean_noshow_sch, mean_noshow_nosch]\n",
    "labels = ['Scholarhsip', 'No Scholarship']\n",
    "plt.bar(locations, heights, tick_label=labels)\n",
    "plt.title('Likelihood of No Show Appointments by Scholarship Status')\n",
    "plt.xlabel('Scholarship Status')\n",
    "plt.ylabel('Percent No Show');"
   ]
  },
  {
   "cell_type": "markdown",
   "metadata": {},
   "source": [
    "Scholarship recipients are more likely to not show up for their appointments relative to non-scholarship recipients."
   ]
  },
  {
   "cell_type": "code",
   "execution_count": 23,
   "metadata": {
    "scrolled": false
   },
   "outputs": [
    {
     "data": {
      "image/png": "[encoded data removed]",
      "text/plain": [
       "<Figure size 432x288 with 1 Axes>"
      ]
     },
     "metadata": {
      "needs_background": "light"
     },
     "output_type": "display_data"
    }
   ],
   "source": [
    "# I create a bar chart on counts of no shows by scholarship status\n",
    "locations = [1, 2]\n",
    "heights = [count_noshow_sch, count_noshow_nosch]\n",
    "labels = ['Scholarhsip', 'No Scholarship']\n",
    "plt.bar(locations, heights, tick_label=labels)\n",
    "plt.title('Count of No Show Appointments by Scholarship Status')\n",
    "plt.xlabel('Scholarship Status')\n",
    "plt.ylabel('Count of No Show');"
   ]
  },
  {
   "cell_type": "markdown",
   "metadata": {},
   "source": [
    "There are many more no show appointments among the no scholarship group. This is because scholarship recipients account for only 10% of the total appointments in the dataset."
   ]
  },
  {
   "cell_type": "markdown",
   "metadata": {},
   "source": [
    "Is there a relationship between gender, welfare particpation, and no shows?"
   ]
  },
  {
   "cell_type": "code",
   "execution_count": 24,
   "metadata": {},
   "outputs": [],
   "source": [
    "# I check if there is a relationship between gender, welfare particpation, and no shows.\n",
    "\n",
    "# Query to select each group by scholarship status and gender to creat four subset dataframes\n",
    "df_male_sch=df.query('scholarship==1 & male==1')\n",
    "df_female_sch=df.query('scholarship==1 & male==0')\n",
    "\n",
    "df_male_nosch=df.query('scholarship==0 & male==1')\n",
    "df_female_nosch=df.query('scholarship==0 & male==0')\n",
    "\n",
    "\n",
    "# I create four subset dataframes using the query function above.\n",
    "# Compute the means of each respective df\n",
    "mean_noshow_male_sch=df_male_sch.no_show.mean()\n",
    "\n",
    "mean_noshow_female_sch=df_female_sch.no_show.mean()\n",
    "\n",
    "mean_noshow_male_nosch=df_male_nosch.no_show.mean()\n",
    "\n",
    "mean_noshow_female_nosch=df_male_nosch.no_show.mean()"
   ]
  },
  {
   "cell_type": "code",
   "execution_count": 26,
   "metadata": {},
   "outputs": [
    {
     "data": {
      "image/png": "[encoded data removed]",
      "text/plain": [
       "<Figure size 1080x720 with 1 Axes>"
      ]
     },
     "metadata": {
      "needs_background": "light"
     },
     "output_type": "display_data"
    }
   ],
   "source": [
    "# Create a bar chart showing the likelihood of no show by gender and scholarship status\n",
    "locations = [1, 2, 3, 4]\n",
    "heights = [mean_noshow_male_sch, mean_noshow_female_sch, \n",
    "           mean_noshow_male_nosch, mean_noshow_female_nosch]\n",
    "labels = ['Male Scholarship', 'Female Scholarship', 'Male No Scholarship', 'Female No Scholarship']\n",
    "plt.bar(locations, heights, tick_label=labels)\n",
    "plt.title('Likelihood of No Show Appointments by Scholarship Status and Gender')\n",
    "plt.xlabel('Gender and Scholarship Status')\n",
    "plt.ylabel('Likelihood of No Show')\n",
    "fig = plt.gcf()\n",
    "fig.set_size_inches(15, 10)\n",
    "fig;"
   ]
  },
  {
   "cell_type": "markdown",
   "metadata": {},
   "source": [
    "Females on Scholarship are most likely to miss their appointments relative to all others. Male scholarship recipients are more likely to miss their appointment than either gender with no scholarship. There is not a visually distinguishable difference between the genders and the likelihood of missing an appointment for the no scholarship group."
   ]
  },
  {
   "cell_type": "code",
   "execution_count": 27,
   "metadata": {},
   "outputs": [
    {
     "data": {
      "text/plain": [
       "<seaborn.axisgrid.FacetGrid at 0x120449700>"
      ]
     },
     "execution_count": 27,
     "metadata": {},
     "output_type": "execute_result"
    },
    {
     "data": {
      "image/png": "[encoded data removed]",
      "text/plain": [
       "<Figure size 864x432 with 2 Axes>"
      ]
     },
     "metadata": {
      "needs_background": "light"
     },
     "output_type": "display_data"
    }
   ],
   "source": [
    "# Using seaborn, I create multi-dimension box plot figure with gender, age, and no show.\n",
    "sns.catplot(x=\"male\", y=\"age\", col=\"no_show\", data=df, height=6, kind=\"box\" )"
   ]
  },
  {
   "cell_type": "markdown",
   "metadata": {},
   "source": [
    "I add additional dimensions to the analysis by considering if there is a relationship between age, gender, and the likelihood of not showing up for an appointment. The figure above shows (in blue boxes) that females tend to be older regardless of not showing up for the appointment. However, younger females are more likely not to show. This trend of younger individuals being less likely to show up is consistent with both genders."
   ]
  },
  {
   "cell_type": "markdown",
   "metadata": {},
   "source": [
    "# Conclusion and Limitation"
   ]
  },
  {
   "cell_type": "markdown",
   "metadata": {},
   "source": [
    "This project explored the Kaggle Brazilian medical appointment dataset and attempted to uncover relationships between gender, welfare program participation, and the likelihood of missing an appointment. \n",
    "\n",
    "The data was loaded into python and standard data procedures were performed such as: \n",
    "1) searching for missing values\n",
    "2) searching for duplicated rows of data\n",
    "3) reformatting variables and\n",
    "4) renaming columns\n",
    "\n",
    "The exploratory data analysis focused on the gender, scholarship status (welfare receipt), and the likelihood of missing an appointment.\n",
    "\n",
    "Only about 35 percent of appointments were for males, and only 10 percent of appointments were for scholarship recipients. However, the most likely type of individuals to miss appointments were female scholarship recipients. \n",
    "\n",
    "A limitation of this analysis was that it was only descriptive. Some of the mean statistics in this analysis appear to be very close numbers. This analysis could be improved by conducting 't-testing' to formally find out if there exists a statistically significant different in the mean among these groups.\n"
   ]
  }
 ],
 "metadata": {
  "kernelspec": {
   "display_name": "Python 3 (ipykernel)",
   "language": "python",
   "name": "python3"
  },
  "language_info": {
   "codemirror_mode": {
    "name": "ipython",
    "version": 3
   },
   "file_extension": ".py",
   "mimetype": "text/x-python",
   "name": "python",
   "nbconvert_exporter": "python",
   "pygments_lexer": "ipython3",
   "version": "3.9.12"
  }
 },
 "nbformat": 4,
 "nbformat_minor": 2
}
